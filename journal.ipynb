{
 "cells": [
  {
   "cell_type": "code",
   "execution_count": null,
   "source": [
    "Practice Invoice IDs or Invoice Numbers\r\n",
    "    e4a0afbd-aea0-450b-ae23-0ce921e84a77 or ORC01025\r\n",
    "    55181e42-eb6f-4cd2-bd0a-58083983c3c6 or ORC0999\r\n",
    "    7be9956d-5316-4f6b-a66a-d355b3f159b2 or ORC1007\r\n",
    "    94a6c052-bfbc-4015-b50b-5d67b8ced945 or ORC1046"
   ],
   "outputs": [],
   "metadata": {}
  },
  {
   "cell_type": "code",
   "execution_count": null,
   "source": [
    "def get_invoices(\r\n",
    "        self,\r\n",
    "        xero_tenant_id,\r\n",
    "        if_modified_since=empty,\r\n",
    "        where=empty,\r\n",
    "        order=empty,\r\n",
    "        i_ds=empty,\r\n",
    "        invoice_numbers=empty,\r\n",
    "        contact_i_ds=empty,\r\n",
    "        statuses=empty,\r\n",
    "        page=empty,\r\n",
    "        include_archived=empty,\r\n",
    "        created_by_my_app=empty,\r\n",
    "        unitdp=empty,\r\n",
    "        _return_http_data_only=True,\r\n",
    "        _preload_content=True,\r\n",
    "        _request_timeout=None,\r\n",
    "    ):\r\n",
    "        \"\"\"Retrieves sales invoices or purchase bills  # noqa: E501\r\n",
    "        OAuth2 scope: accounting.transactions.read\r\n",
    "        :param str xero_tenant_id: Xero identifier for Tenant (required)\r\n",
    "        :param datetime if_modified_since: Only records created or modified since this timestamp will be returned\r\n",
    "        :param str where: Filter by an any element\r\n",
    "        :param str order: Order by an any element\r\n",
    "        :param list[str] i_ds: Filter by a comma-separated list of InvoicesIDs.\r\n",
    "        :param list[str] invoice_numbers: Filter by a comma-separated list of InvoiceNumbers.\r\n",
    "        :param list[str] contact_i_ds: Filter by a comma-separated list of ContactIDs.\r\n",
    "        :param list[str] statuses: Filter by a comma-separated list Statuses. For faster response times we recommend using these explicit parameters instead of passing OR conditions into the Where filter.\r\n",
    "        :param int page: e.g. page=1 – Up to 100 invoices will be returned in a single API call with line items shown for each invoice\r\n",
    "        :param bool include_archived: e.g. includeArchived=true - Invoices with a status of ARCHIVED will be included in the response\r\n",
    "        :param bool created_by_my_app: When set to true you'll only retrieve Invoices created by your app\r\n",
    "        :param int unitdp: e.g. unitdp=4 – (Unit Decimal Places) You can opt in to use four decimal places for unit amounts\r\n",
    "        :param bool _return_http_data_only: return received data only\r\n",
    "        :param bool _preload_content: load received data in models\r\n",
    "        :param bool _request_timeout: maximum wait time for response\r\n",
    "        :return: Invoices\r\n",
    "        \"\"\""
   ],
   "outputs": [],
   "metadata": {}
  },
  {
   "cell_type": "code",
   "execution_count": null,
   "source": [
    "def get_invoice(\r\n",
    "        self,\r\n",
    "        xero_tenant_id,\r\n",
    "        invoice_id,\r\n",
    "        unitdp=empty,\r\n",
    "        _return_http_data_only=True,\r\n",
    "        _preload_content=True,\r\n",
    "        _request_timeout=None,\r\n",
    "    ):\r\n",
    "        \"\"\"Retrieves a specific sales invoice or purchase bill using a unique invoice Id  # noqa: E501\r\n",
    "        OAuth2 scope: accounting.transactions.read\r\n",
    "        :param str xero_tenant_id: Xero identifier for Tenant (required)\r\n",
    "        :param str invoice_id: Unique identifier for an Invoice (required)\r\n",
    "        :param int unitdp: e.g. unitdp=4 – (Unit Decimal Places) You can opt in to use four decimal places for unit amounts\r\n",
    "        :param bool _return_http_data_only: return received data only\r\n",
    "        :param bool _preload_content: load received data in models\r\n",
    "        :param bool _request_timeout: maximum wait time for response\r\n",
    "        :return: Invoices\r\n",
    "        \"\"\""
   ],
   "outputs": [],
   "metadata": {}
  },
  {
   "cell_type": "code",
   "execution_count": null,
   "source": [
    "def getvalue(value, path, default=None):\r\n",
    "    \"\"\"Get a named attribute or item from an object; getvalue(x, 'y.z')\r\n",
    "       is equivalent to x.y.z\r\n",
    "    When a default argument is given, it is returned when the attribute doesn't\r\n",
    "    exist; without it, None returned\r\n",
    "    List indexing supported x.0.y.1.z etc.\r\n",
    "    \"\"\"\r\n",
    "    paths = path.split(\".\")\r\n",
    "    return get_nested(value, *paths, default=default)"
   ],
   "outputs": [],
   "metadata": {}
  },
  {
   "cell_type": "code",
   "execution_count": null,
   "source": [
    "# used to filter results and only show what we need\r\n",
    "# app.py file\r\n",
    "output = \"Invoice read with id {} \".format(\r\n",
    "            getvalue(read_invoices, \"invoices.0.invoice_id\", \"\")\r\n",
    "        )\r\n",
    "return render_template(\r\n",
    "        \"output.html\", title=\"Invoices\", code=code, json=json, output=output, len = 0, set=\"accounting\", endpoint=\"invoice\", action=\"read_one\"\r\n",
    "    )\r\n",
    "\r\n",
    "# code.html file    \r\n",
    "{% if amount_paid %}<h3>{{ amount_paid }}</h3>{% endif %}"
   ],
   "outputs": [],
   "metadata": {}
  },
  {
   "cell_type": "code",
   "execution_count": null,
   "source": [
    "invoices = {'invoices': [{'amount_credited': Decimal('218.90'),\r\n",
    "               'amount_due': Decimal('0.00')}, {'amount_credited': Decimal('318.90'),\r\n",
    "               'amount_due': Decimal('0.00')}, {'amount_credited': Decimal('418.90'),\r\n",
    "               'amount_due': Decimal('0.00')}, {'amount_credited': Decimal('518.90'),\r\n",
    "               'amount_due': Decimal('0.00')}\r\n",
    "print(invoices['invoices'])\r\n"
   ],
   "outputs": [],
   "metadata": {}
  }
 ],
 "metadata": {
  "orig_nbformat": 4,
  "language_info": {
   "name": "python"
  }
 },
 "nbformat": 4,
 "nbformat_minor": 2
}